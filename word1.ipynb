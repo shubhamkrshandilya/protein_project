{
 "cells": [
  {
   "cell_type": "code",
   "execution_count": 1,
   "metadata": {},
   "outputs": [],
   "source": [
    "import pandas as pd\n",
    "import re"
   ]
  },
  {
   "cell_type": "code",
   "execution_count": 7,
   "metadata": {},
   "outputs": [],
   "source": [
    "def seq_to_word(path,char_size):\n",
    "    data = pd.read_csv(path)\n",
    "    word = []\n",
    "    dot = ''\n",
    "    for i in range(char_size):\n",
    "        dot = dot + '.'\n",
    "    for i in range(len(data['0'])):\n",
    "        temp = []\n",
    "        for j in range(char_size):\n",
    "            temp = temp + re.findall(dot, data['0'].iloc[i][j:])\n",
    "        word.append(temp)\n",
    "    return word"
   ]
  },
  {
   "cell_type": "code",
   "execution_count": 8,
   "metadata": {},
   "outputs": [],
   "source": [
    "def create_dictionary(word_list):\n",
    "    dic={}\n",
    "    for i in range(len(word_list)):\n",
    "        for j in word_list[i]:\n",
    "            if j in dic.keys():\n",
    "                dic[j]=dic[j]+1\n",
    "            else:\n",
    "                dic[j]=1\n",
    "    return dic\n",
    "    "
   ]
  },
  {
   "cell_type": "code",
   "execution_count": 9,
   "metadata": {},
   "outputs": [],
   "source": [
    "#fbound is frequency boundary\n",
    "def frequency_count(dic,fbound):\n",
    "    Dic={}   \n",
    "    for keys,values in dic.items():\n",
    "        if values>fbound:\n",
    "            Dic[keys]=values\n",
    "    return Dic        \n",
    "    "
   ]
  },
  {
   "cell_type": "code",
   "execution_count": 10,
   "metadata": {},
   "outputs": [],
   "source": [
    "#argument are file name of text file and Dictionary to store in it\n",
    "def text_file_for_dict(file,Dic):\n",
    "    f=open(file,\"w\")\n",
    "    for i in Dic.keys():\n",
    "        f.write(i)\n",
    "        f.write(',')\n",
    "    f.close()\n",
    "    "
   ]
  },
  {
   "cell_type": "code",
   "execution_count": 17,
   "metadata": {},
   "outputs": [
    {
     "name": "stdout",
     "output_type": "stream",
     "text": [
      "For 3 length word and frequency count 1000 \n",
      "length of dic :8000\n",
      "length of Dic :5156\n"
     ]
    }
   ],
   "source": [
    "path = 'C:/Users/User/protein_project/project_data/train-bp.csv'\n",
    "char_size = 3\n",
    "fbound = 1000\n",
    "text_file_name = '3_gram_1000_fbound.txt'\n",
    "word = seq_to_word(path,char_size)\n",
    "dic = create_dictionary(word)\n",
    "Dic = frequency_count(dic,fbound)\n",
    "text_file_for_dict(text_file_name,Dic)\n",
    "print('For %d length word and frequency count %d '%(char_size,fbound))\n",
    "print('length of dic :'+str(len(dic)))\n",
    "print('length of Dic :'+str(len(Dic)))"
   ]
  },
  {
   "cell_type": "code",
   "execution_count": 18,
   "metadata": {},
   "outputs": [],
   "source": [
    "#file name in list as aargument like file_list = ['file1.txt', 'file2.txt', ...]\n",
    "def join_file(com_file,file_list):\n",
    "    filenames = file_list \n",
    "    with open(com_file, 'w') as outfile:\n",
    "        for fname in filenames:\n",
    "            with open(fname) as infile:\n",
    "                for line in infile:\n",
    "                    outfile.write(line)"
   ]
  },
  {
   "cell_type": "code",
   "execution_count": 19,
   "metadata": {},
   "outputs": [],
   "source": [
    "file_list = ['3_gram_300_fbound.txt','4_gram_300_fbound.txt','5_gram_300_fbound.txt'] \n",
    "com_file = 'com_3_4_5_300_fbound.txt'\n",
    "join_file(com_file,file_list)"
   ]
  },
  {
   "cell_type": "code",
   "execution_count": null,
   "metadata": {},
   "outputs": [],
   "source": []
  }
 ],
 "metadata": {
  "kernelspec": {
   "display_name": "Python 3",
   "language": "python",
   "name": "python3"
  },
  "language_info": {
   "codemirror_mode": {
    "name": "ipython",
    "version": 3
   },
   "file_extension": ".py",
   "mimetype": "text/x-python",
   "name": "python",
   "nbconvert_exporter": "python",
   "pygments_lexer": "ipython3",
   "version": "3.6.5"
  }
 },
 "nbformat": 4,
 "nbformat_minor": 2
}
